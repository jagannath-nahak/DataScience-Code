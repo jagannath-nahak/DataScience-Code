{
 "cells": [
  {
   "cell_type": "code",
   "execution_count": 2,
   "id": "7960aeb3-8451-4c46-a37b-960f3d0a4e72",
   "metadata": {},
   "outputs": [
    {
     "name": "stdout",
     "output_type": "stream",
     "text": [
      "people you may know for the user 4:[2, 7, 5, 10, 12, 14, 11, 15]\n"
     ]
    }
   ],
   "source": [
    "import json\n",
    "\n",
    "def load_data(filename):\n",
    "    with open(filename,\"r\") as f:\n",
    "        return json.load(f)\n",
    "\n",
    "def people_you_may_know(user_id,data):\n",
    "    user_friends={}\n",
    "    for user in data['users']:\n",
    "        user_friends[user['id']]=set(user['friends'])\n",
    "\n",
    "    if user_id not in user_friends:\n",
    "        return []\n",
    "    direct_friends=user_friends[user_id]\n",
    "    suggestions={}\n",
    "    for friend in direct_friends:\n",
    "        for mutual in user_friends[friend]:\n",
    "            if mutual!=user_id and mutual not in direct_friends:\n",
    "                suggestions[mutual]=suggestions.get(mutual,0)+1\n",
    "    sorted_suggestion=sorted(suggestions.items(),key=lambda x:x[1],reverse=True)\n",
    "    return [user_id for user_id,mutual_count in sorted_suggestion]\n",
    "\n",
    "\n",
    "data=load_data(\"massive.json\")\n",
    "user_id=4\n",
    "friend_recommendation=people_you_may_know(user_id,data)\n",
    "print(f\"people you may know for the user {user_id}:{friend_recommendation}\")\n",
    "    "
   ]
  },
  {
   "cell_type": "code",
   "execution_count": null,
   "id": "2aa479b6-263e-4f42-9135-8055b9f0ae57",
   "metadata": {},
   "outputs": [],
   "source": []
  }
 ],
 "metadata": {
  "kernelspec": {
   "display_name": "Python 3 (ipykernel)",
   "language": "python",
   "name": "python3"
  },
  "language_info": {
   "codemirror_mode": {
    "name": "ipython",
    "version": 3
   },
   "file_extension": ".py",
   "mimetype": "text/x-python",
   "name": "python",
   "nbconvert_exporter": "python",
   "pygments_lexer": "ipython3",
   "version": "3.13.5"
  }
 },
 "nbformat": 4,
 "nbformat_minor": 5
}
