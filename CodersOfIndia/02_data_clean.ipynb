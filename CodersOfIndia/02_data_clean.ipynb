{
 "cells": [
  {
   "cell_type": "code",
   "execution_count": 4,
   "id": "93567517-12d2-43f4-bad2-7f1d6fd116cb",
   "metadata": {},
   "outputs": [
    {
     "name": "stdout",
     "output_type": "stream",
     "text": [
      "data cleaned successfuly!\n"
     ]
    }
   ],
   "source": [
    "import json\n",
    "\n",
    "def clean_data(data):\n",
    "    # remove empty users from the list\n",
    "    data['users']=[user for user in data['users'] if user['name'].strip()]\n",
    "\n",
    "    # remove duplicate friends\n",
    "    for user in data['users']:\n",
    "        user['friends']=list(set(user['friends']))\n",
    "    \n",
    "    # remove in active users\n",
    "    data['users']=[user for user in data['users'] if user['friends'] or user['liked_pages']]\n",
    "\n",
    "    # remove duplicate pages\n",
    "    unique_pages=[]\n",
    "    seen_ids=set()\n",
    "\n",
    "    for page in data['pages']:\n",
    "        if page['id'] not in seen_ids:\n",
    "            unique_pages.append(page)\n",
    "            seen_ids.add(page['id'])\n",
    "    data['pages']=unique_pages\n",
    "    return data\n",
    "    \n",
    "with open(\"data2.json\",\"r\") as f:\n",
    "    data=json.load(f)\n",
    "cleaned_data=clean_data(data)\n",
    "\n",
    "with open(\"clean_data.json\",\"w\") as f:\n",
    "    json.dump(cleaned_data,f,indent=5)\n",
    "    \n",
    "print(\"data cleaned successfuly!\")"
   ]
  },
  {
   "cell_type": "code",
   "execution_count": null,
   "id": "73b449bc-a6cd-4c9b-8e13-63e295046eea",
   "metadata": {},
   "outputs": [],
   "source": []
  }
 ],
 "metadata": {
  "kernelspec": {
   "display_name": "Python 3 (ipykernel)",
   "language": "python",
   "name": "python3"
  },
  "language_info": {
   "codemirror_mode": {
    "name": "ipython",
    "version": 3
   },
   "file_extension": ".py",
   "mimetype": "text/x-python",
   "name": "python",
   "nbconvert_exporter": "python",
   "pygments_lexer": "ipython3",
   "version": "3.13.5"
  }
 },
 "nbformat": 4,
 "nbformat_minor": 5
}
