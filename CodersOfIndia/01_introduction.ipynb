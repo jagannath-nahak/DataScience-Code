{
 "cells": [
  {
   "cell_type": "code",
   "execution_count": 1,
   "id": "3a9ba8bf-69fe-4570-8d7e-f4fff1c62aa4",
   "metadata": {},
   "outputs": [],
   "source": [
    "import json\n",
    "\n",
    "def load_data(filename):\n",
    "    with open(filename,\"r\") as f:\n",
    "        data=json.load(f)\n",
    "    return data"
   ]
  },
  {
   "cell_type": "code",
   "execution_count": 3,
   "id": "2f20d54a-1925-4fdd-974f-48f924e35562",
   "metadata": {},
   "outputs": [],
   "source": [
    "data=load_data(\"data1.json\")"
   ]
  },
  {
   "cell_type": "code",
   "execution_count": 4,
   "id": "727d6d9d-5af9-4b68-8faa-33c5aa7f590d",
   "metadata": {},
   "outputs": [
    {
     "data": {
      "text/plain": [
       "{'users': [{'id': 1,\n",
       "   'name': 'Amit',\n",
       "   'age': 24,\n",
       "   'city': 'Delhi',\n",
       "   'friends': [2, 3, 4],\n",
       "   'liked_pages': [101, 102]},\n",
       "  {'id': 2,\n",
       "   'name': 'Priya',\n",
       "   'age': 22,\n",
       "   'city': 'Mumbai',\n",
       "   'friends': [1, 4],\n",
       "   'liked_pages': [101, 103]},\n",
       "  {'id': 3,\n",
       "   'name': '',\n",
       "   'age': 25,\n",
       "   'city': 'Bangalore',\n",
       "   'friends': [1, 5],\n",
       "   'liked_pages': [102, 104]},\n",
       "  {'id': 4,\n",
       "   'name': 'Sneha',\n",
       "   'age': 23,\n",
       "   'city': 'Delhi',\n",
       "   'friends': [1, 2, 5],\n",
       "   'liked_pages': [103, 105]},\n",
       "  {'id': 5,\n",
       "   'name': 'Karan',\n",
       "   'age': 26,\n",
       "   'city': 'Chennai',\n",
       "   'friends': [3, 4],\n",
       "   'liked_pages': [104, 105]}],\n",
       " 'pages': [{'id': 101, 'name': 'Python Learners', 'category': 'Education'},\n",
       "  {'id': 102, 'name': 'AI World', 'category': 'Technology'},\n",
       "  {'id': 103, 'name': 'Food Lovers', 'category': 'Lifestyle'},\n",
       "  {'id': 104, 'name': 'Travel Diaries', 'category': 'Adventure'},\n",
       "  {'id': 105, 'name': 'Music Vibes', 'category': 'Entertainment'}]}"
      ]
     },
     "execution_count": 4,
     "metadata": {},
     "output_type": "execute_result"
    }
   ],
   "source": [
    "data"
   ]
  },
  {
   "cell_type": "code",
   "execution_count": 8,
   "id": "064ecdb4-7489-4225-970e-5270bdc0b1e6",
   "metadata": {},
   "outputs": [
    {
     "name": "stdout",
     "output_type": "stream",
     "text": [
      "users and their connections\n",
      "ID:1-Amit and his friends are [2, 3, 4]\n",
      "ID:2-Priya and his friends are [1, 4]\n",
      "ID:3- and his friends are [1, 5]\n",
      "ID:4-Sneha and his friends are [1, 2, 5]\n",
      "ID:5-Karan and his friends are [3, 4]\n",
      "\n",
      "page information\n",
      "101:Python Learners\n",
      "102:AI World\n",
      "103:Food Lovers\n",
      "104:Travel Diaries\n",
      "105:Music Vibes\n"
     ]
    }
   ],
   "source": [
    "def print_users(data):\n",
    "    print(\"users and their connections\")\n",
    "    for user in data['users']:\n",
    "        print(f\"ID:{user['id']}-{user['name']} and his friends are {user['friends']}\")\n",
    "    print(\"\\npage information\")\n",
    "    for user in data['pages']:\n",
    "        print(f\"{user['id']}:{user['name']}\")\n",
    "print_users(data)"
   ]
  },
  {
   "cell_type": "code",
   "execution_count": null,
   "id": "65e1f732-c4d2-4316-ba16-61f359eb4c59",
   "metadata": {},
   "outputs": [],
   "source": []
  }
 ],
 "metadata": {
  "kernelspec": {
   "display_name": "Python 3 (ipykernel)",
   "language": "python",
   "name": "python3"
  },
  "language_info": {
   "codemirror_mode": {
    "name": "ipython",
    "version": 3
   },
   "file_extension": ".py",
   "mimetype": "text/x-python",
   "name": "python",
   "nbconvert_exporter": "python",
   "pygments_lexer": "ipython3",
   "version": "3.13.5"
  }
 },
 "nbformat": 4,
 "nbformat_minor": 5
}
