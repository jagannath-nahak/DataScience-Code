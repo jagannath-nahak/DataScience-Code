{
 "cells": [
  {
   "cell_type": "code",
   "execution_count": 1,
   "id": "eb7b92b2-ee3c-4fce-bdbd-6ea57a63883f",
   "metadata": {},
   "outputs": [
    {
     "name": "stdout",
     "output_type": "stream",
     "text": [
      "{\"name\": \"shradha\", \"age\": 21, \"city\": \"Bengaluru\"}\n"
     ]
    },
    {
     "data": {
      "text/plain": [
       "str"
      ]
     },
     "execution_count": 1,
     "metadata": {},
     "output_type": "execute_result"
    }
   ],
   "source": [
    "import json\n",
    "data={\"name\":\"shradha\",\"age\":21,\"city\":\"Bengaluru\"}\n",
    "json_string=json.dumps(data)\n",
    "print(json_string)\n",
    "type(json_string)"
   ]
  },
  {
   "cell_type": "code",
   "execution_count": null,
   "id": "f1b4048d-9af1-4d05-87e4-ba3d9f055214",
   "metadata": {},
   "outputs": [],
   "source": []
  },
  {
   "cell_type": "code",
   "execution_count": null,
   "id": "7e6daa91-a4e1-473c-8505-d199f5c8e0f4",
   "metadata": {},
   "outputs": [],
   "source": []
  },
  {
   "cell_type": "code",
   "execution_count": null,
   "id": "fb99e608-f988-4498-a53e-7e299008b2fa",
   "metadata": {},
   "outputs": [],
   "source": []
  },
  {
   "cell_type": "code",
   "execution_count": 2,
   "id": "30357e21-a89e-46de-b789-68a7fc1d6f52",
   "metadata": {},
   "outputs": [],
   "source": [
    "with open(\"data.json\",\"w\") as file:\n",
    "    json.dump(data,file)"
   ]
  },
  {
   "cell_type": "code",
   "execution_count": 3,
   "id": "fa56e340-3f11-4028-b0a5-d6d532523327",
   "metadata": {},
   "outputs": [
    {
     "name": "stdout",
     "output_type": "stream",
     "text": [
      "{'name': 'shradha', 'age': 21, 'city': 'Bengaluru'}\n"
     ]
    },
    {
     "data": {
      "text/plain": [
       "dict"
      ]
     },
     "execution_count": 3,
     "metadata": {},
     "output_type": "execute_result"
    }
   ],
   "source": [
    "python_obj=json.loads(json_string)\n",
    "print(python_obj)\n",
    "type(python_obj)"
   ]
  },
  {
   "cell_type": "code",
   "execution_count": 4,
   "id": "4a38fc4b-719f-4f33-8aea-f487b188baec",
   "metadata": {},
   "outputs": [
    {
     "name": "stdout",
     "output_type": "stream",
     "text": [
      "{'name': 'shradha', 'age': 21, 'city': 'Bengaluru'}\n"
     ]
    }
   ],
   "source": [
    "with open(\"data.json\",\"r\") as file:\n",
    "    python_data=json.load(file)\n",
    "    print(python_data)"
   ]
  },
  {
   "cell_type": "code",
   "execution_count": 5,
   "id": "7c67b338-6b49-4d0f-8196-d261511df1fb",
   "metadata": {},
   "outputs": [
    {
     "name": "stdout",
     "output_type": "stream",
     "text": [
      "{\n",
      "    \"name\": \"shradha\",\n",
      "    \"age\": 21,\n",
      "    \"city\": \"Bengaluru\"\n",
      "}\n"
     ]
    }
   ],
   "source": [
    "formatted_json = json.dumps(data, indent=4)\n",
    "print(formatted_json)"
   ]
  },
  {
   "cell_type": "code",
   "execution_count": 6,
   "id": "57e915bc-d42e-47e2-9151-f51a4720222e",
   "metadata": {},
   "outputs": [
    {
     "name": "stdout",
     "output_type": "stream",
     "text": [
      "{\"name\": \"shradha\", \"age\": 21, \"city\": \"Bengaluru\"}\n"
     ]
    }
   ],
   "source": [
    "formatted_json = json.dumps(data)\n",
    "print(formatted_json)"
   ]
  },
  {
   "cell_type": "code",
   "execution_count": 8,
   "id": "bac8cb5b-abe5-45d1-9ffa-f728fd90e730",
   "metadata": {},
   "outputs": [
    {
     "name": "stdout",
     "output_type": "stream",
     "text": [
      "{\"name\": \"john\", \"age\": 21, \"grade\": \"A\"}\n",
      "<class 'str'>\n"
     ]
    }
   ],
   "source": [
    "import json\n",
    "python_object={\"name\":\"john\",\"age\":21,\"grade\":\"A\"}\n",
    "json_string=json.dumps(python_object)\n",
    "print(json_string)\n",
    "print(type(json_string))"
   ]
  },
  {
   "cell_type": "code",
   "execution_count": 14,
   "id": "9d5e52f4-5cad-4f1c-b38b-2a60f6805f7a",
   "metadata": {},
   "outputs": [
    {
     "name": "stdout",
     "output_type": "stream",
     "text": [
      "{'name': 'rahul', 'age': 21}\n",
      "<class 'dict'>\n"
     ]
    }
   ],
   "source": [
    "import json\n",
    "json_string='{\"name\":\"rahul\",\"age\":21}'\n",
    "object=json.loads(json_string)\n",
    "print(object)\n",
    "print(type(object))"
   ]
  },
  {
   "cell_type": "code",
   "execution_count": 15,
   "id": "55ec3b95-0c04-491b-b2b6-79431742dbb8",
   "metadata": {},
   "outputs": [
    {
     "name": "stdout",
     "output_type": "stream",
     "text": [
      "{\n",
      "    \"name\": \"rahul\",\n",
      "    \"age\": 21\n",
      "}\n"
     ]
    }
   ],
   "source": [
    "format=json.dumps(object,indent=4)\n",
    "print(format)\n"
   ]
  },
  {
   "cell_type": "code",
   "execution_count": null,
   "id": "2af24487-c99a-489f-b368-0041acf7cb0b",
   "metadata": {},
   "outputs": [],
   "source": []
  }
 ],
 "metadata": {
  "kernelspec": {
   "display_name": "Python 3 (ipykernel)",
   "language": "python",
   "name": "python3"
  },
  "language_info": {
   "codemirror_mode": {
    "name": "ipython",
    "version": 3
   },
   "file_extension": ".py",
   "mimetype": "text/x-python",
   "name": "python",
   "nbconvert_exporter": "python",
   "pygments_lexer": "ipython3",
   "version": "3.13.5"
  }
 },
 "nbformat": 4,
 "nbformat_minor": 5
}
