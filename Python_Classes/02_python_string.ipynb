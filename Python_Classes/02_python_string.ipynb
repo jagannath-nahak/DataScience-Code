{
 "cells": [
  {
   "cell_type": "code",
   "execution_count": 1,
   "id": "081187b4-56ef-472b-8735-671df848e37b",
   "metadata": {},
   "outputs": [],
   "source": [
    "str=\" shradha \""
   ]
  },
  {
   "cell_type": "code",
   "execution_count": 3,
   "id": "9818f9e3-1408-47ef-acf8-89ab3c5cca42",
   "metadata": {},
   "outputs": [
    {
     "name": "stdout",
     "output_type": "stream",
     "text": [
      "a\n"
     ]
    }
   ],
   "source": [
    "print(str[-1:])"
   ]
  },
  {
   "cell_type": "code",
   "execution_count": 4,
   "id": "a6e9acaf-267e-4943-9069-b9b87783207f",
   "metadata": {},
   "outputs": [
    {
     "name": "stdout",
     "output_type": "stream",
     "text": [
      "shradha\n"
     ]
    }
   ],
   "source": [
    "print(str[::])"
   ]
  },
  {
   "cell_type": "code",
   "execution_count": 5,
   "id": "270e936d-1c40-4a94-aaca-4c66aea575e3",
   "metadata": {},
   "outputs": [
    {
     "name": "stdout",
     "output_type": "stream",
     "text": [
      "ahdarhs\n"
     ]
    }
   ],
   "source": [
    "print(str[::-1])"
   ]
  },
  {
   "cell_type": "code",
   "execution_count": 6,
   "id": "8dc9a187-0dbc-4e85-874e-5610e2009eb3",
   "metadata": {},
   "outputs": [
    {
     "name": "stdout",
     "output_type": "stream",
     "text": [
      "sd\n"
     ]
    }
   ],
   "source": [
    "print(str[::4])"
   ]
  },
  {
   "cell_type": "code",
   "execution_count": 7,
   "id": "1989b593-b0bb-40a4-81e4-edd0c3fa1c12",
   "metadata": {},
   "outputs": [
    {
     "name": "stdout",
     "output_type": "stream",
     "text": [
      "adrs\n"
     ]
    }
   ],
   "source": [
    "print(str[::-2])"
   ]
  },
  {
   "cell_type": "code",
   "execution_count": 8,
   "id": "a63431cb-11d4-4beb-b7af-11cb2d3c5e3e",
   "metadata": {},
   "outputs": [
    {
     "name": "stdout",
     "output_type": "stream",
     "text": [
      "shradha\n"
     ]
    }
   ],
   "source": [
    "print(str[::1])"
   ]
  },
  {
   "cell_type": "code",
   "execution_count": 9,
   "id": "7d51710c-8cca-4dbb-bf00-ea3e870c6866",
   "metadata": {},
   "outputs": [
    {
     "name": "stdout",
     "output_type": "stream",
     "text": [
      "SHRADHA\n"
     ]
    }
   ],
   "source": [
    "print(str.upper())"
   ]
  },
  {
   "cell_type": "code",
   "execution_count": 10,
   "id": "05b798e0-c9f7-4597-adb6-293deedc26f4",
   "metadata": {},
   "outputs": [
    {
     "name": "stdout",
     "output_type": "stream",
     "text": [
      "shradha\n"
     ]
    }
   ],
   "source": [
    "print(str.lstrip())"
   ]
  },
  {
   "cell_type": "code",
   "execution_count": 11,
   "id": "4676618e-c9a0-4008-a6c3-2adecc7d69f5",
   "metadata": {},
   "outputs": [
    {
     "name": "stdout",
     "output_type": "stream",
     "text": [
      "shradha\n"
     ]
    }
   ],
   "source": [
    "print(str.rstrip())"
   ]
  },
  {
   "cell_type": "code",
   "execution_count": 12,
   "id": "7bfd9c95-c0a6-4a46-b38c-b9da0af4206c",
   "metadata": {},
   "outputs": [
    {
     "name": "stdout",
     "output_type": "stream",
     "text": [
      "Shradha\n"
     ]
    }
   ],
   "source": [
    "print(str.capitalize())"
   ]
  },
  {
   "cell_type": "code",
   "execution_count": 15,
   "id": "41308843-9bb5-4bf9-9459-9b295e683b1f",
   "metadata": {},
   "outputs": [
    {
     "name": "stdout",
     "output_type": "stream",
     "text": [
      "1\n"
     ]
    }
   ],
   "source": [
    "print(str.count(\"shradha\"))"
   ]
  },
  {
   "cell_type": "code",
   "execution_count": 17,
   "id": "75bbbd2e-ec8d-43ab-a520-492a26f16ce2",
   "metadata": {},
   "outputs": [
    {
     "name": "stdout",
     "output_type": "stream",
     "text": [
      "2\n"
     ]
    }
   ],
   "source": [
    "print(str.count('a'))"
   ]
  },
  {
   "cell_type": "code",
   "execution_count": 19,
   "id": "09bf940e-b5a9-43fb-b880-0b4a80d1e5e7",
   "metadata": {},
   "outputs": [
    {
     "name": "stdout",
     "output_type": "stream",
     "text": [
      "['shradha', 'anushka', 'virushka']\n"
     ]
    }
   ],
   "source": [
    "name=\"shradha,anushka,virushka\"\n",
    "actresses=name.split(\",\")\n",
    "print(actresses)"
   ]
  },
  {
   "cell_type": "code",
   "execution_count": 20,
   "id": "676dc198-0928-4dc2-8e69-8ec8b958fc80",
   "metadata": {},
   "outputs": [
    {
     "name": "stdout",
     "output_type": "stream",
     "text": [
      "shradha-anushka-virushka\n"
     ]
    }
   ],
   "source": [
    "new_list=\"-\".join(actresses)\n",
    "print(new_list)"
   ]
  },
  {
   "cell_type": "code",
   "execution_count": 21,
   "id": "abf9d112-f8b9-43a0-930a-83f3bb22525a",
   "metadata": {},
   "outputs": [
    {
     "name": "stdout",
     "output_type": "stream",
     "text": [
      "shradha,kajol,virushka\n"
     ]
    }
   ],
   "source": [
    "print(name.replace(\"anushka\",\"kajol\"))"
   ]
  },
  {
   "cell_type": "code",
   "execution_count": 22,
   "id": "090e324e-8ea3-4263-a242-ee7f16229c42",
   "metadata": {},
   "outputs": [
    {
     "name": "stdout",
     "output_type": "stream",
     "text": [
      "My name is virat and I am 39 years old\n"
     ]
    }
   ],
   "source": [
    "name=\"virat\"\n",
    "age=39\n",
    "print(\"My name is {} and I am {} years old\".format(name,age))"
   ]
  },
  {
   "cell_type": "code",
   "execution_count": 23,
   "id": "81251d9a-2136-4b0e-ab03-9a245bc8a4f6",
   "metadata": {},
   "outputs": [
    {
     "name": "stdout",
     "output_type": "stream",
     "text": [
      "My name is virat and i am 39 years old\n"
     ]
    }
   ],
   "source": [
    "print(f\"My name is {name} and i am {age} years old\")"
   ]
  },
  {
   "cell_type": "code",
   "execution_count": 24,
   "id": "bb0f1cbf-9406-4bc3-b8f7-2a02bf9157ef",
   "metadata": {},
   "outputs": [
    {
     "name": "stdout",
     "output_type": "stream",
     "text": [
      "    python\n"
     ]
    }
   ],
   "source": [
    "text=\"python\"\n",
    "print(f\"{text:>10}\")"
   ]
  },
  {
   "cell_type": "code",
   "execution_count": null,
   "id": "83e2c356-84a5-458b-ba3c-6bf0c44bd72c",
   "metadata": {},
   "outputs": [],
   "source": []
  }
 ],
 "metadata": {
  "kernelspec": {
   "display_name": "Python 3 (ipykernel)",
   "language": "python",
   "name": "python3"
  },
  "language_info": {
   "codemirror_mode": {
    "name": "ipython",
    "version": 3
   },
   "file_extension": ".py",
   "mimetype": "text/x-python",
   "name": "python",
   "nbconvert_exporter": "python",
   "pygments_lexer": "ipython3",
   "version": "3.13.5"
  }
 },
 "nbformat": 4,
 "nbformat_minor": 5
}
