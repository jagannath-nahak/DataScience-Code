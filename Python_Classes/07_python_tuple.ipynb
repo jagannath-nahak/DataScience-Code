{
 "cells": [
  {
   "cell_type": "code",
   "execution_count": 6,
   "id": "14d8b526-1bce-434b-9043-ad3022fc98b0",
   "metadata": {},
   "outputs": [
    {
     "name": "stdout",
     "output_type": "stream",
     "text": [
      "(1, 'shradha', 4.5, True)\n"
     ]
    }
   ],
   "source": [
    "element=(1,\"shradha\",4.5,True,1)\n",
    "print(element)"
   ]
  },
  {
   "cell_type": "code",
   "execution_count": 7,
   "id": "26e7253b-b28f-48e6-b970-7ec836cfaf19",
   "metadata": {},
   "outputs": [
    {
     "data": {
      "text/plain": [
       "2"
      ]
     },
     "execution_count": 7,
     "metadata": {},
     "output_type": "execute_result"
    }
   ],
   "source": [
    "element.index(4.5)"
   ]
  },
  {
   "cell_type": "code",
   "execution_count": 8,
   "id": "f169cdd8-15c5-46f1-a4cf-7b437461a027",
   "metadata": {},
   "outputs": [
    {
     "data": {
      "text/plain": [
       "2"
      ]
     },
     "execution_count": 8,
     "metadata": {},
     "output_type": "execute_result"
    }
   ],
   "source": [
    "element.count(1)"
   ]
  },
  {
   "cell_type": "code",
   "execution_count": 11,
   "id": "b6e0fc58-8a67-4fc2-9ca8-872fed7d9e28",
   "metadata": {},
   "outputs": [],
   "source": [
    "person=(\"shradha\",21,\"data-scientist\")\n",
    "name,age,profession=person"
   ]
  },
  {
   "cell_type": "code",
   "execution_count": 12,
   "id": "46edacb1-12fe-4cf4-8aff-8e25944164fe",
   "metadata": {},
   "outputs": [
    {
     "data": {
      "text/plain": [
       "'shradha'"
      ]
     },
     "execution_count": 12,
     "metadata": {},
     "output_type": "execute_result"
    }
   ],
   "source": [
    "name"
   ]
  },
  {
   "cell_type": "code",
   "execution_count": 13,
   "id": "40b6ab20-fb94-4556-a15a-82c69a597edc",
   "metadata": {},
   "outputs": [
    {
     "data": {
      "text/plain": [
       "'data-scientist'"
      ]
     },
     "execution_count": 13,
     "metadata": {},
     "output_type": "execute_result"
    }
   ],
   "source": [
    "profession"
   ]
  },
  {
   "cell_type": "code",
   "execution_count": 14,
   "id": "8eb419d4-51b9-4961-b5f6-dfad7b0d0d9a",
   "metadata": {},
   "outputs": [
    {
     "ename": "AttributeError",
     "evalue": "'tuple' object has no attribute 'add'",
     "output_type": "error",
     "traceback": [
      "\u001b[1;31m---------------------------------------------------------------------------\u001b[0m",
      "\u001b[1;31mAttributeError\u001b[0m                            Traceback (most recent call last)",
      "Cell \u001b[1;32mIn[14], line 1\u001b[0m\n\u001b[1;32m----> 1\u001b[0m element\u001b[38;5;241m.\u001b[39madd(\u001b[38;5;241m5\u001b[39m)\n\u001b[0;32m      2\u001b[0m \u001b[38;5;28mprint\u001b[39m(element)\n",
      "\u001b[1;31mAttributeError\u001b[0m: 'tuple' object has no attribute 'add'"
     ]
    }
   ],
   "source": [
    "element.add(5)\n",
    "print(element)"
   ]
  },
  {
   "cell_type": "code",
   "execution_count": null,
   "id": "b383b3f2-f762-437f-8995-2a5142de9773",
   "metadata": {},
   "outputs": [],
   "source": []
  }
 ],
 "metadata": {
  "kernelspec": {
   "display_name": "Python 3 (ipykernel)",
   "language": "python",
   "name": "python3"
  },
  "language_info": {
   "codemirror_mode": {
    "name": "ipython",
    "version": 3
   },
   "file_extension": ".py",
   "mimetype": "text/x-python",
   "name": "python",
   "nbconvert_exporter": "python",
   "pygments_lexer": "ipython3",
   "version": "3.13.5"
  }
 },
 "nbformat": 4,
 "nbformat_minor": 5
}
