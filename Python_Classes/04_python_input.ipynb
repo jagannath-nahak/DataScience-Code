{
 "cells": [
  {
   "cell_type": "code",
   "execution_count": 2,
   "id": "e66486a2-ac03-4287-bc63-ba7a4dd317b7",
   "metadata": {},
   "outputs": [
    {
     "name": "stdin",
     "output_type": "stream",
     "text": [
      "Enter your name jaga\n"
     ]
    },
    {
     "name": "stdout",
     "output_type": "stream",
     "text": [
      "Hello jaga\n"
     ]
    }
   ],
   "source": [
    "name=input(\"Enter your name\")\n",
    "print(\"Hello\",name)"
   ]
  },
  {
   "cell_type": "code",
   "execution_count": 6,
   "id": "42ace1f4-00bc-448b-9085-82fd1d69297d",
   "metadata": {},
   "outputs": [
    {
     "name": "stdout",
     "output_type": "stream",
     "text": [
      "python    \n",
      "    python\n",
      "  python  \n"
     ]
    }
   ],
   "source": [
    "name=\"python\"\n",
    "print(f\"{name:<10}\")\n",
    "print(f\"{name:>10}\")\n",
    "print(f\"{name:^10}\")"
   ]
  },
  {
   "cell_type": "code",
   "execution_count": null,
   "id": "e8d174c3-43a0-4eee-aabd-8110239451d5",
   "metadata": {},
   "outputs": [],
   "source": []
  }
 ],
 "metadata": {
  "kernelspec": {
   "display_name": "Python 3 (ipykernel)",
   "language": "python",
   "name": "python3"
  },
  "language_info": {
   "codemirror_mode": {
    "name": "ipython",
    "version": 3
   },
   "file_extension": ".py",
   "mimetype": "text/x-python",
   "name": "python",
   "nbconvert_exporter": "python",
   "pygments_lexer": "ipython3",
   "version": "3.13.5"
  }
 },
 "nbformat": 4,
 "nbformat_minor": 5
}
