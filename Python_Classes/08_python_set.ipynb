{
 "cells": [
  {
   "cell_type": "code",
   "execution_count": 1,
   "id": "3d89d1a7-f8c6-442d-b9fb-306ec1a5b9f4",
   "metadata": {},
   "outputs": [],
   "source": [
    "element=set([1,5,4,3,2])"
   ]
  },
  {
   "cell_type": "code",
   "execution_count": 2,
   "id": "149dd260-ba65-43d3-a0cc-e3812d3c12d3",
   "metadata": {},
   "outputs": [
    {
     "name": "stdout",
     "output_type": "stream",
     "text": [
      "{1, 2, 3, 4, 5}\n"
     ]
    }
   ],
   "source": [
    "print(element)"
   ]
  },
  {
   "cell_type": "code",
   "execution_count": 9,
   "id": "9189d15e-56af-4c29-b567-ae5d82ad96c3",
   "metadata": {},
   "outputs": [
    {
     "name": "stdout",
     "output_type": "stream",
     "text": [
      "{1, 2, 5, 6}\n",
      "{1, 2, 5, 6}\n",
      "{2, 5, 6}\n"
     ]
    }
   ],
   "source": [
    "element.add(6)\n",
    "print(element)\n",
    "element.discard(3)\n",
    "print(element)\n",
    "element.pop()\n",
    "print(element)"
   ]
  },
  {
   "cell_type": "code",
   "execution_count": 13,
   "id": "71774b02-c43d-4d7d-a411-19459a706ea0",
   "metadata": {},
   "outputs": [
    {
     "name": "stdout",
     "output_type": "stream",
     "text": [
      "{1, 2, 3, 4, 5, 6, 7, 8, 9, 10}\n"
     ]
    }
   ],
   "source": [
    "set1={1,2,3,4,5,6}\n",
    "set2={4,5,6,7,8,9,10}\n",
    "print(set1 | set2)"
   ]
  },
  {
   "cell_type": "code",
   "execution_count": 14,
   "id": "b67593bd-78a6-4ff6-a9fb-c5ca230bb1bd",
   "metadata": {},
   "outputs": [
    {
     "name": "stdout",
     "output_type": "stream",
     "text": [
      "{4, 5, 6}\n"
     ]
    }
   ],
   "source": [
    "print(set1 & set2)"
   ]
  },
  {
   "cell_type": "code",
   "execution_count": 15,
   "id": "51205e09-f34a-42e9-abaf-f0ae3924dc20",
   "metadata": {},
   "outputs": [
    {
     "name": "stdout",
     "output_type": "stream",
     "text": [
      "{1, 2, 3}\n",
      "{1, 2, 3, 7, 8, 9, 10}\n"
     ]
    }
   ],
   "source": [
    "print(set1.difference(set2))\n",
    "print(set1 ^ set2)"
   ]
  },
  {
   "cell_type": "code",
   "execution_count": 16,
   "id": "eb88e608-b7e9-4adc-a2da-51fb54fbf687",
   "metadata": {},
   "outputs": [
    {
     "name": "stdout",
     "output_type": "stream",
     "text": [
      "True\n"
     ]
    }
   ],
   "source": [
    "set3={4,5,6}\n",
    "print(set3.issubset(set1))"
   ]
  },
  {
   "cell_type": "code",
   "execution_count": 17,
   "id": "ef9f5b86-98c3-4ab7-854c-002850bfc7cf",
   "metadata": {},
   "outputs": [
    {
     "name": "stdout",
     "output_type": "stream",
     "text": [
      "False\n"
     ]
    }
   ],
   "source": [
    "print(set2.issubset(set1))"
   ]
  },
  {
   "cell_type": "code",
   "execution_count": 19,
   "id": "74330e59-044d-4173-bfca-a55cbb7b847b",
   "metadata": {},
   "outputs": [
    {
     "name": "stdout",
     "output_type": "stream",
     "text": [
      "True\n"
     ]
    }
   ],
   "source": [
    "print(set1.issuperset(set3))"
   ]
  },
  {
   "cell_type": "code",
   "execution_count": null,
   "id": "8d7fd43b-45a4-40f2-b75b-b152d0d625fd",
   "metadata": {},
   "outputs": [],
   "source": []
  }
 ],
 "metadata": {
  "kernelspec": {
   "display_name": "Python 3 (ipykernel)",
   "language": "python",
   "name": "python3"
  },
  "language_info": {
   "codemirror_mode": {
    "name": "ipython",
    "version": 3
   },
   "file_extension": ".py",
   "mimetype": "text/x-python",
   "name": "python",
   "nbconvert_exporter": "python",
   "pygments_lexer": "ipython3",
   "version": "3.13.5"
  }
 },
 "nbformat": 4,
 "nbformat_minor": 5
}
