{
 "cells": [
  {
   "cell_type": "code",
   "execution_count": 2,
   "id": "e8a625ed-ea4f-4acc-bcdb-e2d8aea68044",
   "metadata": {},
   "outputs": [
    {
     "name": "stdout",
     "output_type": "stream",
     "text": [
      "{'name': 'Raghav', 'age': 21, 'city': 'Berhampur'}\n",
      "{'name': 'Raju', 'age': 25, 'salary': 25000}\n"
     ]
    }
   ],
   "source": [
    "student={\n",
    "    \"name\":\"Raghav\",\n",
    "    \"age\":21,\n",
    "    \"city\":\"Berhampur\"\n",
    "}\n",
    "employee=dict(name=\"Raju\",age=25,salary=25000)\n",
    "print(student)\n",
    "print(employee)"
   ]
  },
  {
   "cell_type": "code",
   "execution_count": 4,
   "id": "af3b96a1-68a8-4779-98e1-769153b739b6",
   "metadata": {},
   "outputs": [
    {
     "name": "stdout",
     "output_type": "stream",
     "text": [
      "25000\n",
      "21\n"
     ]
    }
   ],
   "source": [
    "print(employee[\"salary\"])\n",
    "print(student[\"age\"])"
   ]
  },
  {
   "cell_type": "code",
   "execution_count": 7,
   "id": "401661f3-6c69-49d9-ab9b-11097d0c2cf8",
   "metadata": {},
   "outputs": [
    {
     "name": "stdout",
     "output_type": "stream",
     "text": [
      "21\n"
     ]
    }
   ],
   "source": [
    "print(student.get(\"age\"))"
   ]
  },
  {
   "cell_type": "code",
   "execution_count": 8,
   "id": "b52c80a8-2f96-45ff-b588-24ae416e9f92",
   "metadata": {},
   "outputs": [
    {
     "name": "stdout",
     "output_type": "stream",
     "text": [
      "dict_keys(['name', 'age', 'city'])\n",
      "dict_values(['Raju', 25, 25000])\n"
     ]
    }
   ],
   "source": [
    "print(student.keys())\n",
    "print(employee.values())"
   ]
  },
  {
   "cell_type": "code",
   "execution_count": 9,
   "id": "523a41e9-c2dc-4cc8-aaad-13a05af5fe8a",
   "metadata": {},
   "outputs": [
    {
     "name": "stdout",
     "output_type": "stream",
     "text": [
      "dict_items([('name', 'Raghav'), ('age', 21), ('city', 'Berhampur')])\n"
     ]
    }
   ],
   "source": [
    "print(student.items())"
   ]
  },
  {
   "cell_type": "code",
   "execution_count": 13,
   "id": "c33dbfc1-dbff-485f-98d8-6543dc71ff6e",
   "metadata": {},
   "outputs": [
    {
     "name": "stdout",
     "output_type": "stream",
     "text": [
      "{'name': 'Raghav', 'age': 21, 'city': 'Berhampur', 'grade': 'A'}\n"
     ]
    }
   ],
   "source": [
    "student.update({\"grade\":\"A\"})\n",
    "print(student)"
   ]
  },
  {
   "cell_type": "code",
   "execution_count": 14,
   "id": "d2461a87-83ea-47bb-b59f-1006edbaa059",
   "metadata": {},
   "outputs": [
    {
     "name": "stdout",
     "output_type": "stream",
     "text": [
      "21\n"
     ]
    }
   ],
   "source": [
    "print(student.pop(\"age\"))"
   ]
  },
  {
   "cell_type": "code",
   "execution_count": 15,
   "id": "abf81ae1-d7cb-4384-bb67-4e50077d7531",
   "metadata": {},
   "outputs": [
    {
     "name": "stdout",
     "output_type": "stream",
     "text": [
      "{'name': 'Raghav', 'city': 'Berhampur', 'grade': 'A'}\n"
     ]
    }
   ],
   "source": [
    "print(student)"
   ]
  },
  {
   "cell_type": "code",
   "execution_count": 16,
   "id": "1026957b-38b8-4ff5-a1d8-611f30663e6b",
   "metadata": {},
   "outputs": [
    {
     "name": "stdout",
     "output_type": "stream",
     "text": [
      "('grade', 'A')\n"
     ]
    }
   ],
   "source": [
    "print(student.popitem())"
   ]
  },
  {
   "cell_type": "code",
   "execution_count": 17,
   "id": "0202d378-8168-47d5-8ebb-3779f2ff727b",
   "metadata": {},
   "outputs": [
    {
     "name": "stdout",
     "output_type": "stream",
     "text": [
      "{'name': 'Raghav', 'city': 'Berhampur'}\n"
     ]
    }
   ],
   "source": [
    "print(student)"
   ]
  },
  {
   "cell_type": "code",
   "execution_count": 21,
   "id": "4e5277d1-f156-49a1-8792-bc9e96c82cbf",
   "metadata": {},
   "outputs": [
    {
     "name": "stdout",
     "output_type": "stream",
     "text": [
      "{'name': 'Raghav', 'city': 'Berhampur'}\n"
     ]
    }
   ],
   "source": [
    "student.setdefault(\"city\",\"Bengaluru\")\n",
    "print(student)"
   ]
  },
  {
   "cell_type": "code",
   "execution_count": 22,
   "id": "94f0c96e-130b-4e33-8706-f85f53cc5c15",
   "metadata": {},
   "outputs": [
    {
     "name": "stdout",
     "output_type": "stream",
     "text": [
      "name : Raghav\n",
      "city : Berhampur\n"
     ]
    }
   ],
   "source": [
    "for key,value in student.items():\n",
    "    print(key,\":\",value)"
   ]
  },
  {
   "cell_type": "code",
   "execution_count": null,
   "id": "59e74ade-a017-4ee9-8b12-0fcae737d49b",
   "metadata": {},
   "outputs": [],
   "source": []
  }
 ],
 "metadata": {
  "kernelspec": {
   "display_name": "Python 3 (ipykernel)",
   "language": "python",
   "name": "python3"
  },
  "language_info": {
   "codemirror_mode": {
    "name": "ipython",
    "version": 3
   },
   "file_extension": ".py",
   "mimetype": "text/x-python",
   "name": "python",
   "nbconvert_exporter": "python",
   "pygments_lexer": "ipython3",
   "version": "3.13.5"
  }
 },
 "nbformat": 4,
 "nbformat_minor": 5
}
