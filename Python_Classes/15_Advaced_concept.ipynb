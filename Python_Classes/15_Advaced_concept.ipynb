{
 "cells": [
  {
   "cell_type": "markdown",
   "id": "0a6fd30a-3ad8-452b-91bb-09790515e154",
   "metadata": {},
   "source": [
    "def repeat(n):\n",
    "    def decorator(fun):\n",
    "        def wrapper(a):\n",
    "            for _ in range(n):\n",
    "                fun(a)\n",
    "        return wrapper\n",
    "    return decorator\n",
    "@repeat(5)\n",
    "def greet(name):\n",
    "    print(f\"Hello,{name}\")\n",
    "greet(\"guru\")"
   ]
  },
  {
   "cell_type": "code",
   "execution_count": 1,
   "id": "3a9e384b-68ff-480e-b9c7-d93c51b0c969",
   "metadata": {},
   "outputs": [
    {
     "name": "stdout",
     "output_type": "stream",
     "text": [
      "I want to execute this function\n",
      "Hello\n",
      "I successfully execute this function\n"
     ]
    }
   ],
   "source": [
    "def my_decorator(fun):\n",
    "    def wrapper():\n",
    "        print(\"I want to execute this function\")\n",
    "        fun()\n",
    "        print(\"I successfully execute this function\")\n",
    "    return wrapper\n",
    "@my_decorator\n",
    "def say_hello():\n",
    "    print(\"Hello\")\n",
    "say_hello()"
   ]
  },
  {
   "cell_type": "code",
   "execution_count": 2,
   "id": "17864887-940f-461f-8000-16d0c5e06424",
   "metadata": {},
   "outputs": [
    {
     "data": {
      "text/plain": [
       "'HELLO!!!'"
      ]
     },
     "execution_count": 2,
     "metadata": {},
     "output_type": "execute_result"
    }
   ],
   "source": [
    "def capital(fun):\n",
    "    def wrapper():\n",
    "        return fun().upper()\n",
    "    return wrapper\n",
    "def exclaims(fun):\n",
    "    def wrapper():\n",
    "        return fun()+\"!!!\"\n",
    "    return wrapper        \n",
    "@capital\n",
    "@exclaims\n",
    "def hello():\n",
    "    return \"hello\"\n",
    "hello()"
   ]
  },
  {
   "cell_type": "markdown",
   "id": "87a90640-2c05-4eba-be34-cdfb10796878",
   "metadata": {},
   "source": [
    "# Getters and Setters"
   ]
  },
  {
   "cell_type": "code",
   "execution_count": 3,
   "id": "e853138d-5d86-4982-95dd-c78ecd154ea6",
   "metadata": {},
   "outputs": [
    {
     "name": "stdout",
     "output_type": "stream",
     "text": [
      "ranjan\n",
      "alok\n"
     ]
    }
   ],
   "source": [
    "class Person:\n",
    "    def __init__(self,name):\n",
    "        self.__name=name\n",
    "    def get_name(self):\n",
    "        return self.__name\n",
    "    def set_name(self,new_name):\n",
    "        self.__name=new_name\n",
    "p1=Person(\"ranjan\")\n",
    "print(p1.get_name())\n",
    "p1.set_name(\"alok\")\n",
    "print(p1.get_name())"
   ]
  },
  {
   "cell_type": "markdown",
   "id": "f2008f53-a717-4c48-88d9-05ea50d16b84",
   "metadata": {},
   "source": [
    "# Using @property"
   ]
  },
  {
   "cell_type": "code",
   "execution_count": 4,
   "id": "8e6b3888-f03b-42b8-96f1-223dcd68a668",
   "metadata": {},
   "outputs": [
    {
     "name": "stdout",
     "output_type": "stream",
     "text": [
      "lalu\n",
      "ranjan\n"
     ]
    }
   ],
   "source": [
    "class Student:\n",
    "    def __init__(self,name):\n",
    "        self.__name=name\n",
    "    @property\n",
    "    def name(self):\n",
    "        return self.__name\n",
    "    @name.setter\n",
    "    def name(self,new_name):\n",
    "        self.__name=new_name\n",
    "    @name.deleter\n",
    "    def name(self):\n",
    "        del self.__name\n",
    "s1=Student(\"lalu\")\n",
    "print(s1.name)\n",
    "s1.name=\"ranjan\"\n",
    "print(s1.name)"
   ]
  },
  {
   "cell_type": "markdown",
   "id": "fbb37742-7d13-4b66-b92b-80f55bb85d83",
   "metadata": {},
   "source": [
    "# Exception-Handling"
   ]
  },
  {
   "cell_type": "code",
   "execution_count": 5,
   "id": "e615463d-2fac-4963-bfc7-b7ce0bcf3979",
   "metadata": {},
   "outputs": [
    {
     "name": "stdin",
     "output_type": "stream",
     "text": [
      "Enter a number 5\n"
     ]
    },
    {
     "name": "stdout",
     "output_type": "stream",
     "text": [
      "20.0\n"
     ]
    }
   ],
   "source": [
    "try:\n",
    "    num=int(input(\"Enter a number\"))\n",
    "    x=100/num\n",
    "    print(x)\n",
    "except(ZeroDivisionError,ValueError) as e:\n",
    "    print(f\"An error occured {e}\")"
   ]
  },
  {
   "cell_type": "code",
   "execution_count": 6,
   "id": "83d9981c-0753-4b3f-ab6b-cc03c0afda43",
   "metadata": {},
   "outputs": [
    {
     "name": "stdout",
     "output_type": "stream",
     "text": [
      "File read successfully\n",
      "File contents:\n",
      "This\n",
      "is Python\n",
      "Program\n",
      "\n"
     ]
    }
   ],
   "source": [
    "try:\n",
    "    file=open(\"file.txt\",\"r\")\n",
    "    content=file.read()\n",
    "except FileNotFoundError:\n",
    "    print(\"File Not Found\")\n",
    "else:\n",
    "    print(\"File read successfully\")\n",
    "    print(f\"File contents:\\n{content}\")\n",
    "finally:\n",
    "    file.close()\n",
    "    "
   ]
  },
  {
   "cell_type": "code",
   "execution_count": 7,
   "id": "02796c72-a015-426d-9a89-742c5f4d271a",
   "metadata": {},
   "outputs": [
    {
     "name": "stdout",
     "output_type": "stream",
     "text": [
      "Number is divisible by 2\n",
      "Error:The number must be divisible by 2\n"
     ]
    }
   ],
   "source": [
    "def check_Even(num):\n",
    "    if num%2!=0:\n",
    "        raise ValueError(\"The number must be divisible by 2\")\n",
    "    return \"Number is divisible by 2\"\n",
    "try:\n",
    "    print(check_Even(10))\n",
    "    print(check_Even(11))\n",
    "except ValueError as e:\n",
    "    print(f\"Error:{e}\")"
   ]
  },
  {
   "cell_type": "code",
   "execution_count": 8,
   "id": "41f0baf4-a286-4f38-b548-1b7577da4278",
   "metadata": {},
   "outputs": [
    {
     "name": "stdout",
     "output_type": "stream",
     "text": [
      "Correct denominator\n",
      "Error:denominator can not be zero\n"
     ]
    }
   ],
   "source": [
    "class ZeroDivisionError(Exception):\n",
    "    def __init__(self,message=\"denominator can not be zero\"):\n",
    "        self.message=message\n",
    "        super().__init__(self.message)\n",
    "def verify_denominator(num):\n",
    "    if num==0:\n",
    "        raise ZeroDivisionError()\n",
    "    return \"Correct denominator\"\n",
    "try:\n",
    "    print(verify_denominator(5))\n",
    "    print(verify_denominator(0))\n",
    "except ZeroDivisionError as e:\n",
    "    print(f\"Error:{e}\")"
   ]
  },
  {
   "cell_type": "markdown",
   "id": "4489ee6a-454c-47bb-b539-45c81ecd60dc",
   "metadata": {},
   "source": [
    "# Walrus-Operator"
   ]
  },
  {
   "cell_type": "code",
   "execution_count": 9,
   "id": "2539b5f4-4e80-4594-8fb6-18b365339fb4",
   "metadata": {},
   "outputs": [
    {
     "name": "stdin",
     "output_type": "stream",
     "text": [
      "Enter a value (or 'quit' to exit): quit\n",
      "Enter a value(or 'quit' to exit): quit\n"
     ]
    }
   ],
   "source": [
    "# without walrus\n",
    "data=input(\"Enter a value (or 'quit' to exit):\")\n",
    "while data!='quit':\n",
    "    print(f\"you entered:{data}\")\n",
    "    data=input(\"Enter a value (or 'quit' to exit):\")\n",
    "\n",
    "# with walrus\n",
    "while(data:=input(\"Enter a value(or 'quit' to exit):\"))!='quit':\n",
    "    print(f\"You enter:{data}\")"
   ]
  },
  {
   "cell_type": "code",
   "execution_count": 10,
   "id": "0fa949b2-220a-4281-9f64-afc5719ad5a4",
   "metadata": {},
   "outputs": [
    {
     "name": "stdout",
     "output_type": "stream",
     "text": [
      "This\n",
      "is Python\n",
      "Program\n"
     ]
    }
   ],
   "source": [
    "with open(\"file.txt\", \"r\") as f:\n",
    "    while (line := f.readline()):\n",
    "        print(line.strip())"
   ]
  },
  {
   "cell_type": "markdown",
   "id": "01f5892e-9565-4322-92c7-488390cdd815",
   "metadata": {},
   "source": [
    "# *args and **kwargs"
   ]
  },
  {
   "cell_type": "code",
   "execution_count": 11,
   "id": "0806106c-694b-4cd8-a25e-db5f1efd7e23",
   "metadata": {},
   "outputs": [
    {
     "name": "stdout",
     "output_type": "stream",
     "text": [
      "1\n",
      "2\n",
      "3\n",
      "4\n",
      "5\n",
      "name:john\n",
      "age:21\n"
     ]
    }
   ],
   "source": [
    "def my_function(*values):\n",
    "    for value in values:\n",
    "        print(value)\n",
    "def function(**values):\n",
    "    for key,value in values.items():\n",
    "        print(f\"{key}:{value}\")\n",
    "my_function(1,2,3,4,5)\n",
    "function(name=\"john\",age=21)\n"
   ]
  },
  {
   "cell_type": "code",
   "execution_count": 12,
   "id": "cc43935a-bfae-49a1-aab1-3d79605c940c",
   "metadata": {},
   "outputs": [
    {
     "name": "stdout",
     "output_type": "stream",
     "text": [
      "a:1\n",
      "b:2\n",
      "c:10\n",
      "args:(3, 4, 5, 6, 7, 8, 9)\n",
      "kwargs:{'name': 'jaga', 'age': 20}\n"
     ]
    }
   ],
   "source": [
    "def another_function(a,b,*args,c=10,**kwargs):\n",
    "    print(f\"a:{a}\")\n",
    "    print(f\"b:{b}\")\n",
    "    print(f\"c:{c}\")\n",
    "    print(f\"args:{args}\")\n",
    "    print(f\"kwargs:{kwargs}\")\n",
    "another_function(1,2,3,4,5,6,7,8,9,name=\"jaga\",age=20)\n",
    "    "
   ]
  },
  {
   "cell_type": "markdown",
   "id": "106de845-df6b-4b39-ba22-26607d1ba6f3",
   "metadata": {},
   "source": [
    "# Practise-Question"
   ]
  },
  {
   "cell_type": "code",
   "execution_count": 13,
   "id": "60adda6a-d565-424a-b884-a14d0c288058",
   "metadata": {},
   "outputs": [
    {
     "name": "stdout",
     "output_type": "stream",
     "text": [
      "Function is being called\n",
      "Hello!\n"
     ]
    }
   ],
   "source": [
    "def logger(fun):\n",
    "    def wrapper():\n",
    "        print(\"Function is being called\")\n",
    "        fun()\n",
    "    return wrapper\n",
    "@logger\n",
    "def say_hello():\n",
    "    print(\"Hello!\")\n",
    "say_hello()"
   ]
  },
  {
   "cell_type": "code",
   "execution_count": 14,
   "id": "eeffb2c9-9a0f-40f8-9df3-a71c56ed8444",
   "metadata": {},
   "outputs": [
    {
     "name": "stdout",
     "output_type": "stream",
     "text": [
      "0.18359780311584473\n"
     ]
    }
   ],
   "source": [
    "import time\n",
    "sum=0\n",
    "start=time.time()\n",
    "for i in range(1000001):\n",
    "    sum+=i\n",
    "end=time.time()\n",
    "actualTime=end-start\n",
    "print(actualTime)\n",
    "    "
   ]
  },
  {
   "cell_type": "code",
   "execution_count": 15,
   "id": "87852ba5-2bd3-4a18-a80b-3aef6d45b17a",
   "metadata": {},
   "outputs": [
    {
     "name": "stdout",
     "output_type": "stream",
     "text": [
      "12345\n",
      "please don't share the value of salary as negative\n"
     ]
    }
   ],
   "source": [
    "class Employee:\n",
    "    def __init__(self,salary):\n",
    "        self.__salary=salary\n",
    "    @property\n",
    "    def salary(self):\n",
    "        return self.__salary\n",
    "    @salary.setter\n",
    "    def salary(self,new_salary):\n",
    "        if(new_salary<0):\n",
    "            print(\"please don't share the value of salary as negative\")\n",
    "        else:\n",
    "            self.__salary=new_salary\n",
    "            \n",
    "emp1=Employee(12345)\n",
    "print(emp1.salary)\n",
    "emp1.salary=-54321"
   ]
  },
  {
   "cell_type": "code",
   "execution_count": 16,
   "id": "47fb0c08-0ecc-411b-a3a6-735a2fa89cee",
   "metadata": {},
   "outputs": [
    {
     "name": "stdout",
     "output_type": "stream",
     "text": [
      "This is a utility cls for math operation\n",
      "10\n"
     ]
    }
   ],
   "source": [
    "class mathUtils:\n",
    "    def __init__(self):\n",
    "        pass\n",
    "    @staticmethod\n",
    "    def add(a,b):\n",
    "        return a+b\n",
    "    @classmethod\n",
    "    def description(cls):\n",
    "        print(\"This is a utility cls for math operation\")\n",
    "mathUtils.description()\n",
    "print(mathUtils.add(4,6))"
   ]
  },
  {
   "cell_type": "code",
   "execution_count": 17,
   "id": "4eea1914-0108-41c8-a6ba-bad073013461",
   "metadata": {},
   "outputs": [
    {
     "name": "stdout",
     "output_type": "stream",
     "text": [
      "Avatar by James-cameron\n",
      "6\n"
     ]
    }
   ],
   "source": [
    "class Book:\n",
    "    def __init__(self,title,author):\n",
    "        self.title=title\n",
    "        self.author=author\n",
    "    def __str__(self):\n",
    "        return f\"{self.title} by {self.author}\"\n",
    "    def __len__(self):\n",
    "        return len(self.title)\n",
    "b1=Book(\"Avatar\",\"James-cameron\")\n",
    "print(str(b1))\n",
    "print(len(b1))\n",
    "\n"
   ]
  },
  {
   "cell_type": "code",
   "execution_count": 18,
   "id": "a0d4d5dc-2cc2-4c2a-a4b8-727190286a9d",
   "metadata": {},
   "outputs": [
    {
     "name": "stdin",
     "output_type": "stream",
     "text": [
      "Enter a number 5\n"
     ]
    },
    {
     "name": "stdout",
     "output_type": "stream",
     "text": [
      "2.0\n"
     ]
    }
   ],
   "source": [
    "class NegativeNumberError(Exception):\n",
    "    pass\n",
    "try:\n",
    "    num=int(input(\"Enter a number\"))\n",
    "    x=10/num\n",
    "    print(x)\n",
    "    if num==0:\n",
    "        print(\"Number can not be zero\")\n",
    "    if num<0:\n",
    "        raise NegativeNumberError(\"Number cannot be negative\")\n",
    "except ValueError:\n",
    "    print(\"Please enter a proper number\")\n",
    "except ZeroDivisionError:\n",
    "    print(f\"Error:{e}\")\n",
    "except NegativeNumberError as e:\n",
    "    print(f\"Error:{e}\")\n",
    "    "
   ]
  },
  {
   "cell_type": "code",
   "execution_count": 27,
   "id": "d410abb4-2064-4c5f-8bfc-fbf17afa6ed6",
   "metadata": {},
   "outputs": [
    {
     "name": "stdout",
     "output_type": "stream",
     "text": [
      "[1, 8, 27, 64, 125]\n",
      "[10, 12, 14]\n"
     ]
    }
   ],
   "source": [
    "numbers=[1,2,3,4,5]\n",
    "cubes=map(lambda x:x*x*x,numbers)\n",
    "print(list(cubes))\n",
    "numbers1=[10,11,12,13,14]\n",
    "even=filter(lambda x:x%2==0,numbers1)\n",
    "print(list(even))"
   ]
  },
  {
   "cell_type": "code",
   "execution_count": 29,
   "id": "6d964824-67fc-4683-88fe-b15e59a419d3",
   "metadata": {},
   "outputs": [
    {
     "name": "stdout",
     "output_type": "stream",
     "text": [
      "24\n"
     ]
    }
   ],
   "source": [
    "from functools import reduce\n",
    "numbers2=[1,2,3,4]\n",
    "product=reduce(lambda x,y:x*y,numbers2)\n",
    "print(product)"
   ]
  },
  {
   "cell_type": "code",
   "execution_count": 31,
   "id": "b71c4ee8-9e2b-45ec-92eb-dfd2847e88cb",
   "metadata": {},
   "outputs": [
    {
     "name": "stdin",
     "output_type": "stream",
     "text": [
      "Enter a value:(or quit to 'exit') quit\n"
     ]
    }
   ],
   "source": [
    "while(data:=input(\"Enter a value:(or quit to 'exit')\"))!='quit':\n",
    "    print(f\"you enter:{data}\")"
   ]
  },
  {
   "cell_type": "code",
   "execution_count": 32,
   "id": "de3b2cee-6d47-4a72-9100-3d988cf04544",
   "metadata": {},
   "outputs": [
    {
     "name": "stdout",
     "output_type": "stream",
     "text": [
      "[6, 5]\n"
     ]
    }
   ],
   "source": [
    "words=[\"python\",\"rocks\",\"ai\"]\n",
    "lengths=[n for w in words if(n:=len(w))>=4]\n",
    "print(lengths)"
   ]
  },
  {
   "cell_type": "code",
   "execution_count": 35,
   "id": "0ade19f6-47a9-41c5-86e7-4da78ae9e203",
   "metadata": {},
   "outputs": [
    {
     "data": {
      "text/plain": [
       "15"
      ]
     },
     "execution_count": 35,
     "metadata": {},
     "output_type": "execute_result"
    }
   ],
   "source": [
    "def sum_all(*args):\n",
    "    sum=0\n",
    "    for arg in args:\n",
    "        sum+=arg\n",
    "    return sum\n",
    "sum_all(1,2,3,4,5)"
   ]
  },
  {
   "cell_type": "code",
   "execution_count": 5,
   "id": "609a7d22-cc35-4703-b1dd-e0043d1743ef",
   "metadata": {},
   "outputs": [
    {
     "name": "stdout",
     "output_type": "stream",
     "text": [
      "name:alok\n",
      "age:21\n"
     ]
    }
   ],
   "source": [
    "def student(**kwargs):\n",
    "    for key,value in kwargs.items():\n",
    "        print(f\"{key}:{value}\")\n",
    "student(name=\"alok\",age=21)"
   ]
  },
  {
   "cell_type": "markdown",
   "id": "87404309-b74d-4ff7-a722-b6c75c072a4b",
   "metadata": {},
   "source": [
    "# File I/O in python"
   ]
  },
  {
   "cell_type": "code",
   "execution_count": 12,
   "id": "1a9435a2-cb1f-4f05-aad6-3bcddeef656b",
   "metadata": {},
   "outputs": [
    {
     "name": "stdout",
     "output_type": "stream",
     "text": [
      "end of the line\n"
     ]
    }
   ],
   "source": [
    "file=open(\"file.txt\",\"r\")\n",
    "content=file.read()\n",
    "print(content)\n",
    "file.close()"
   ]
  },
  {
   "cell_type": "code",
   "execution_count": 15,
   "id": "d441b1cd-3dec-4bf3-b2d3-41973cf42a60",
   "metadata": {},
   "outputs": [],
   "source": [
    "with open(\"file.txt\",\"a\") as f:\n",
    "    f.write(\"This is the append line.\\n\")\n",
    "    f.write(\"This is the second append line.\\n\")"
   ]
  },
  {
   "cell_type": "markdown",
   "id": "2c1c6a46-891a-49a5-a3f6-1f6f3e0aa2a1",
   "metadata": {},
   "source": [
    "# os and shutil modules"
   ]
  },
  {
   "cell_type": "code",
   "execution_count": 20,
   "id": "0836c8d8-b05e-4a3d-a299-7c278d5d68c5",
   "metadata": {},
   "outputs": [
    {
     "name": "stdout",
     "output_type": "stream",
     "text": [
      "current directory: C:\\Users\\jagan\\Data-Science-Course\\Python_Classes\n"
     ]
    }
   ],
   "source": [
    "import os\n",
    "current_dir=os.getcwd()\n",
    "print(\"current directory:\",current_dir)\n",
    "# os.mkdir(\"new_directory\")\n",
    "os.makedirs(\"path/to/new_directory1\")"
   ]
  },
  {
   "cell_type": "code",
   "execution_count": 21,
   "id": "8f131139-9803-4111-8f7d-74c833deb277",
   "metadata": {},
   "outputs": [],
   "source": [
    "os.remove(\"file.txt\")\n",
    "os.rmdir(\"new_directory\")"
   ]
  },
  {
   "cell_type": "code",
   "execution_count": 23,
   "id": "9560ae86-ffb1-4a41-b961-18995376e169",
   "metadata": {},
   "outputs": [
    {
     "name": "stdout",
     "output_type": "stream",
     "text": [
      "['.ipynb_checkpoints', '01_python_basics.ipynb', '02_python_string.ipynb', '03_python_operators.ipynb', '04_python_input.ipynb', '05_python_loops.ipynb', '06_python_lists.ipynb', '07_python_tuple.ipynb', '08_python_set.ipynb', '09_python_dictionary.ipynb', '10_filehandling.ipynb', '11_python_json.ipynb', '12_oops.ipynb', '13_list_Comprehension.ipynb', '14_lambda_function.ipynb', '15_Advaced_concept.ipynb', 'data.json']\n"
     ]
    }
   ],
   "source": [
    "files=os.listdir(\".\")\n",
    "print(files)"
   ]
  },
  {
   "cell_type": "code",
   "execution_count": 24,
   "id": "12529522-b87c-4dda-a526-2b865307fc04",
   "metadata": {},
   "outputs": [],
   "source": [
    "os.rename(\"untitled.txt\",\"file.txt\")"
   ]
  },
  {
   "cell_type": "code",
   "execution_count": 26,
   "id": "da71d4c4-8d8a-41a4-af17-08a6c713008e",
   "metadata": {},
   "outputs": [
    {
     "data": {
      "text/plain": [
       "'copy.txt'"
      ]
     },
     "execution_count": 26,
     "metadata": {},
     "output_type": "execute_result"
    }
   ],
   "source": [
    "import shutil\n",
    "shutil.copy(\"file.txt\",\"copy.txt\")"
   ]
  },
  {
   "cell_type": "code",
   "execution_count": 27,
   "id": "137d51ac-405e-4861-bd8e-f37414e9554c",
   "metadata": {},
   "outputs": [
    {
     "data": {
      "text/plain": [
       "'new_directory\\\\copy.txt'"
      ]
     },
     "execution_count": 27,
     "metadata": {},
     "output_type": "execute_result"
    }
   ],
   "source": [
    "os.mkdir(\"new_directory\")\n",
    "shutil.move(\"copy.txt\",\"new_directory\")"
   ]
  },
  {
   "cell_type": "code",
   "execution_count": 30,
   "id": "63bbe61e-2c43-4938-9808-3c0cde987a2c",
   "metadata": {},
   "outputs": [],
   "source": [
    "shutil.rmtree(\"new_directory\")"
   ]
  },
  {
   "cell_type": "markdown",
   "id": "e2abc576-f510-4b73-8c75-2423f39f8922",
   "metadata": {},
   "source": [
    "# commandline-utility"
   ]
  },
  {
   "cell_type": "code",
   "execution_count": 33,
   "id": "6c502cd6-33d4-406c-9367-c2844ceed264",
   "metadata": {},
   "outputs": [],
   "source": [
    "with open(\"tasks.txt\",\"w\") as f:\n",
    "    f.write(\"Line1.\\n\")\n",
    "    f.write(\"Line2.\\n\")\n",
    "    f.write(\"Line3.\\n\")"
   ]
  },
  {
   "cell_type": "code",
   "execution_count": 34,
   "id": "6e568123-daf3-4e9f-a285-d41179095704",
   "metadata": {},
   "outputs": [],
   "source": [
    "with open(\"tasks.txt\",\"a\") as f:\n",
    "    f.write(\"Task Completed\")"
   ]
  },
  {
   "cell_type": "code",
   "execution_count": 35,
   "id": "f08419c6-b3a1-4d77-b90e-7b5004ef20e5",
   "metadata": {},
   "outputs": [
    {
     "name": "stdout",
     "output_type": "stream",
     "text": [
      "Line1.\n",
      "\n",
      "Line2.\n",
      "\n",
      "Line3.\n",
      "\n",
      "Task Completed\n"
     ]
    }
   ],
   "source": [
    "with open(\"tasks.txt\",\"r\") as f:\n",
    "    for line in f.readlines():\n",
    "        print(line)"
   ]
  },
  {
   "cell_type": "code",
   "execution_count": null,
   "id": "ac091963-6651-4be9-aa08-e459b63fe619",
   "metadata": {},
   "outputs": [],
   "source": []
  }
 ],
 "metadata": {
  "kernelspec": {
   "display_name": "Python 3 (ipykernel)",
   "language": "python",
   "name": "python3"
  },
  "language_info": {
   "codemirror_mode": {
    "name": "ipython",
    "version": 3
   },
   "file_extension": ".py",
   "mimetype": "text/x-python",
   "name": "python",
   "nbconvert_exporter": "python",
   "pygments_lexer": "ipython3",
   "version": "3.13.5"
  }
 },
 "nbformat": 4,
 "nbformat_minor": 5
}
