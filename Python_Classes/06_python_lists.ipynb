{
 "cells": [
  {
   "cell_type": "code",
   "execution_count": 1,
   "id": "95c764c1-7057-4651-b3b4-8bcfefe17345",
   "metadata": {},
   "outputs": [
    {
     "name": "stdout",
     "output_type": "stream",
     "text": [
      "['tiger', 'lion', 'elephant', 'rabbit', 'horse', 'bear']\n"
     ]
    }
   ],
   "source": [
    "animal=[\"tiger\",\"lion\",\"elephant\",\"rabbit\"]\n",
    "animal.extend([\"horse\",\"bear\"])\n",
    "print(animal)"
   ]
  },
  {
   "cell_type": "code",
   "execution_count": 2,
   "id": "aa371936-fddf-4dad-ab5c-67ad043957f8",
   "metadata": {},
   "outputs": [
    {
     "name": "stdout",
     "output_type": "stream",
     "text": [
      "['tiger', 'lion', 'elephant', 'rabbit', 'horse', 'bear', 'zebra']\n"
     ]
    }
   ],
   "source": [
    "animal.append(\"zebra\")\n",
    "print(animal)"
   ]
  },
  {
   "cell_type": "code",
   "execution_count": 3,
   "id": "22972c35-d008-40e7-81d4-d13ad29b59e1",
   "metadata": {},
   "outputs": [
    {
     "name": "stdout",
     "output_type": "stream",
     "text": [
      "['tiger', 'lion', 'elephant', 'rabbit', 'horse', 'bear']\n",
      "['tiger', 'lion', 'rabbit', 'horse', 'bear']\n"
     ]
    }
   ],
   "source": [
    "animal.pop()\n",
    "print(animal)\n",
    "animal.pop(2)\n",
    "print(animal)"
   ]
  },
  {
   "cell_type": "code",
   "execution_count": 5,
   "id": "41e1c477-426d-42b9-8cc9-dd4020b98d97",
   "metadata": {},
   "outputs": [
    {
     "name": "stdout",
     "output_type": "stream",
     "text": [
      "['tiger', 'lion', 'elephant', 'rabbit', 'horse', 'bear']\n"
     ]
    }
   ],
   "source": [
    "animal.insert(2,\"elephant\")\n",
    "print(animal)"
   ]
  },
  {
   "cell_type": "code",
   "execution_count": 6,
   "id": "3e4a2daa-145e-4663-8b59-e19cd9bbabc3",
   "metadata": {},
   "outputs": [
    {
     "name": "stdout",
     "output_type": "stream",
     "text": [
      "['bear', 'elephant', 'horse', 'lion', 'rabbit', 'tiger']\n",
      "['tiger', 'rabbit', 'lion', 'horse', 'elephant', 'bear']\n"
     ]
    }
   ],
   "source": [
    "animal.sort()\n",
    "print(animal)\n",
    "animal.reverse()\n",
    "print(animal)"
   ]
  },
  {
   "cell_type": "code",
   "execution_count": 7,
   "id": "3140e23d-f57d-4bed-a38e-5a584ec6ba12",
   "metadata": {},
   "outputs": [
    {
     "name": "stdout",
     "output_type": "stream",
     "text": [
      "['tiger', 'rabbit', 'bear', 'lion', 'horse', 'elephant', 'bear']\n"
     ]
    }
   ],
   "source": [
    "animal.insert(2,\"bear\")\n",
    "print(animal)"
   ]
  },
  {
   "cell_type": "code",
   "execution_count": 8,
   "id": "e78d3f59-6571-4e15-b95b-d930664dd86b",
   "metadata": {},
   "outputs": [
    {
     "name": "stdout",
     "output_type": "stream",
     "text": [
      "2\n"
     ]
    }
   ],
   "source": [
    "print(animal.count(\"bear\"))"
   ]
  },
  {
   "cell_type": "code",
   "execution_count": 9,
   "id": "695cbb63-6bce-4210-b385-b0400cc6132d",
   "metadata": {},
   "outputs": [
    {
     "name": "stdout",
     "output_type": "stream",
     "text": [
      "[]\n"
     ]
    }
   ],
   "source": [
    "animal.clear()\n",
    "print(animal)"
   ]
  },
  {
   "cell_type": "code",
   "execution_count": null,
   "id": "e2264d56-cee8-43b7-bd31-d97fcf726e43",
   "metadata": {},
   "outputs": [],
   "source": []
  }
 ],
 "metadata": {
  "kernelspec": {
   "display_name": "Python 3 (ipykernel)",
   "language": "python",
   "name": "python3"
  },
  "language_info": {
   "codemirror_mode": {
    "name": "ipython",
    "version": 3
   },
   "file_extension": ".py",
   "mimetype": "text/x-python",
   "name": "python",
   "nbconvert_exporter": "python",
   "pygments_lexer": "ipython3",
   "version": "3.13.5"
  }
 },
 "nbformat": 4,
 "nbformat_minor": 5
}
