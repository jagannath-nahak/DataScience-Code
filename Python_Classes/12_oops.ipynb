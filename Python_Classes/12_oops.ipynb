{
 "cells": [
  {
   "cell_type": "code",
   "execution_count": 7,
   "id": "b3858751-4dab-46c4-b240-f49225b45eb2",
   "metadata": {},
   "outputs": [
    {
     "name": "stdout",
     "output_type": "stream",
     "text": [
      "The name of the student is alok and his rollno is 23\n"
     ]
    }
   ],
   "source": [
    "class Student:\n",
    "    def __init__(self,name,rollno):\n",
    "        self.name=name\n",
    "        self.rollno=rollno\n",
    "    def print_details(self):\n",
    "        return f\"The name of the student is {self.name} and his rollno is {self.rollno}\"\n",
    "s1=Student(\"alok\",23)\n",
    "print(s1.print_details())"
   ]
  },
  {
   "cell_type": "code",
   "execution_count": 10,
   "id": "554dbb8f-3380-47c2-8a6e-347fe5605d26",
   "metadata": {},
   "outputs": [
    {
     "name": "stdout",
     "output_type": "stream",
     "text": [
      "1500\n"
     ]
    }
   ],
   "source": [
    "class BankAccount:\n",
    "    def __init__(self,balance):\n",
    "        self.__balance=balance\n",
    "    def get_balance(self):\n",
    "        return self.__balance\n",
    "    def deposit(self,amount):\n",
    "        if amount>0:\n",
    "            self.__balance+=amount\n",
    "ac1=BankAccount(1000)\n",
    "ac1.deposit(500)\n",
    "print(ac1.get_balance())\n",
    "            "
   ]
  },
  {
   "cell_type": "markdown",
   "id": "3c759866-781e-47c5-927b-dfbc35a4d730",
   "metadata": {},
   "source": [
    "# multiple-inheritance"
   ]
  },
  {
   "cell_type": "code",
   "execution_count": 17,
   "id": "213dd8a5-e3f2-47a2-9da1-501261cae39a",
   "metadata": {},
   "outputs": [
    {
     "name": "stdout",
     "output_type": "stream",
     "text": [
      "jackel eat both plant and animal\n"
     ]
    }
   ],
   "source": [
    "class Carnivore:\n",
    "    def eat(self):\n",
    "        return\"eat only other animal's meat\"\n",
    "class Herbivore:\n",
    "    def __init__(self,name):\n",
    "        self.name=name\n",
    "    def eat(self):\n",
    "        return\"eat only plant and grass\"\n",
    "class Omnivore(Carnivore,Herbivore):\n",
    "    def eat(self):\n",
    "        return f\"{self.name} eat both plant and animal\"\n",
    "human=Omnivore(\"jackel\")\n",
    "print(human.eat())\n"
   ]
  },
  {
   "cell_type": "markdown",
   "id": "f3ee83af-1801-4f18-82a0-b1f558f37ae6",
   "metadata": {},
   "source": [
    "# abstraction"
   ]
  },
  {
   "cell_type": "code",
   "execution_count": 20,
   "id": "7a3e9da8-0783-45bc-a254-81094d508058",
   "metadata": {},
   "outputs": [
    {
     "name": "stdout",
     "output_type": "stream",
     "text": [
      "20\n"
     ]
    }
   ],
   "source": [
    "from abc import ABC,abstractmethod\n",
    "class Shape(ABC):\n",
    "    @abstractmethod\n",
    "    def area(self):\n",
    "        pass\n",
    "class Square(Shape):\n",
    "    def __init__(self,side):\n",
    "        self.side=side\n",
    "    def area(self):\n",
    "        return self.side*self.side\n",
    "class Rectangle(Shape):\n",
    "    def __init__(self,length,breadth):\n",
    "        self.length=length\n",
    "        self.breadth=breadth\n",
    "    def area(self):\n",
    "        return self.length*self.breadth\n",
    "\n",
    "r1=Rectangle(5,4)\n",
    "print(r1.area())\n",
    "        \n",
    "        "
   ]
  },
  {
   "cell_type": "markdown",
   "id": "9ac3dac0-7238-49d1-bb63-69a878023834",
   "metadata": {},
   "source": [
    "# magic-methods"
   ]
  },
  {
   "cell_type": "code",
   "execution_count": 24,
   "id": "4806c7b9-493b-485e-853d-338cd6d397f9",
   "metadata": {},
   "outputs": [
    {
     "name": "stdout",
     "output_type": "stream",
     "text": [
      "Harry-potter\n",
      "205\n"
     ]
    }
   ],
   "source": [
    "class Book:\n",
    "    def __init__(self,title,page):\n",
    "        self.page=page\n",
    "        self.title=title\n",
    "    def __str__(self):\n",
    "        return self.title\n",
    "    def __len__(self):\n",
    "        return self.page\n",
    "b1=Book(\"Harry-potter\",205)\n",
    "print(b1)\n",
    "print(len(b1))"
   ]
  },
  {
   "cell_type": "code",
   "execution_count": 28,
   "id": "38392077-40d0-4399-94ae-f3e7c6a7e95a",
   "metadata": {},
   "outputs": [
    {
     "name": "stdout",
     "output_type": "stream",
     "text": [
      "Vector(6,8)\n",
      "Vector(60,80)\n",
      "Vector(2,3)\n"
     ]
    }
   ],
   "source": [
    "class Vector:\n",
    "    def __init__(self,x,y):\n",
    "        self.x=x\n",
    "        self.y=y\n",
    "    def __add__(self,other):\n",
    "        return Vector(self.x+other.x,self.y+other.y)\n",
    "    def __sub(self,other):\n",
    "        return Vector(self.x-other.x,self.y-other.y)\n",
    "    def __mul__(self,scalar):\n",
    "        return Vector(self.x*scalar,self.y*scalar)\n",
    "    def __str__(self):\n",
    "        return f\"Vector({self.x},{self.y})\"\n",
    "v1=Vector(2,3)\n",
    "v2=Vector(4,5)\n",
    "v3=v1+v2\n",
    "print(v3)\n",
    "v4=v3*10\n",
    "print(v4)\n",
    "print(v1)"
   ]
  },
  {
   "cell_type": "code",
   "execution_count": 32,
   "id": "590555df-e0af-40d3-ac6d-1ffd16aa10e7",
   "metadata": {},
   "outputs": [
    {
     "name": "stdout",
     "output_type": "stream",
     "text": [
      "False\n",
      "6\n",
      "6.666666666666667\n"
     ]
    }
   ],
   "source": [
    "class Numbers:\n",
    "    def __init__(self,num):\n",
    "        self.num=num\n",
    "    def __eq__(self,other):\n",
    "        return self.num==other.num\n",
    "    def __ne__(self,other):\n",
    "        return self.num!=other.num\n",
    "    def __le__(self,other):\n",
    "        return self.num<=other.num\n",
    "    def __ge__(self,other):\n",
    "        return self.num>=other.num\n",
    "    def __floordiv__(self,other):\n",
    "        return self.num//other.num\n",
    "    def __truediv__(self,other):\n",
    "        return self.num/other.num\n",
    "    def __pow__(self,other):\n",
    "        return self.num**other.num\n",
    "num1=Numbers(40)\n",
    "num2=Numbers(6)\n",
    "print(num1==num2)\n",
    "print(num1//num2)\n",
    "print(num1/num2)"
   ]
  },
  {
   "cell_type": "code",
   "execution_count": 33,
   "id": "689014ae-b123-42eb-9b2b-288e3e470ce1",
   "metadata": {},
   "outputs": [
    {
     "name": "stdout",
     "output_type": "stream",
     "text": [
      "The name of the student is sohan and is 20 years old\n",
      "the name of the school is svb high-school\n",
      "This is the static method\n"
     ]
    }
   ],
   "source": [
    "class Student:\n",
    "    School_name=\"svb high-school\"\n",
    "    def __init__(self,name,age):\n",
    "        self.name=name\n",
    "        self.age=age\n",
    "    def info(self):\n",
    "        return f\"The name of the student is {self.name} and is {self.age} years old\"\n",
    "    @classmethod\n",
    "    def details(cls):\n",
    "        return f\"the name of the school is {cls.School_name}\"\n",
    "    @staticmethod\n",
    "    def stud_info():\n",
    "        return \"This is the static method\"\n",
    "\n",
    "s1=Student(\"sohan\",20)\n",
    "print(s1.info())\n",
    "print(s1.details())\n",
    "print(s1.stud_info())\n",
    "\n",
    "        \n",
    "        "
   ]
  },
  {
   "cell_type": "code",
   "execution_count": null,
   "id": "9a0daa2b-e110-45de-b862-fa3a53b76f62",
   "metadata": {},
   "outputs": [],
   "source": []
  }
 ],
 "metadata": {
  "kernelspec": {
   "display_name": "Python 3 (ipykernel)",
   "language": "python",
   "name": "python3"
  },
  "language_info": {
   "codemirror_mode": {
    "name": "ipython",
    "version": 3
   },
   "file_extension": ".py",
   "mimetype": "text/x-python",
   "name": "python",
   "nbconvert_exporter": "python",
   "pygments_lexer": "ipython3",
   "version": "3.13.5"
  }
 },
 "nbformat": 4,
 "nbformat_minor": 5
}
