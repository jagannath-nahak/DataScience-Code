import json

# clean data
def clean_data(data):
    # remove empty users from the list
    data['users']=[user for user in data['users'] if user['name'].strip()]

    # remove duplicate entries
    for user in data['users']:
        user['friends']=list(set(user['friends']))
    # remove inactive users
    data['users']=[user for user in data['users'] if user['friends'] or user['liked_pages']]

    # remove duplicate pages
    unique_pages={}
    for page in data['pages']:
        unique_pages[page['id']]=page
    data['pages']=list(unique_pages.values())
    return data
    
    
    
# load data
data=json.load(open("data2.json"))
data=clean_data(data)
json.dump(data,open("cleaned_data.json","w"),indent=4)
print("cleaned data successfully!!")



