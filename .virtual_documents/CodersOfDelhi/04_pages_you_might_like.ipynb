import json

def load_data(filename):
    with open(filename,"r") as f:
        return json.load(f)

def page_you_may_like(user_id,data):
    user_pages={}
    for user in data['users']:
        user_pages[user['id']]=set(user['liked_pages'])

    if user_id not in user_pages:
        return[]

    user_liked_pages=user_pages[user_id]

    page_suggestion={}

    for other_user,pages in user_pages.items():
        if other_user != user_id:
            shared_pages=user_liked_pages.intersection(pages)
        for page in pages:
            if page not in user_liked_pages:
                page_suggestion[page]=page_suggestion.get(page,0)+len(shared_pages)
    
    sorted_pages=sorted(page_suggestion.items(),key=lambda x:x[1],reverse=True)
    return[page_id for page_id,_ in sorted_pages]

data=load_data("massive.json")
user_id=5
page_recommendation=page_you_may_like(user_id,data)
print(page_recommendation)




