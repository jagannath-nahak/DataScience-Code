import json


# write a function to load data
def load_data(filename):
    with open(filename,"r") as f:
        data=json.load(f)
    return data


data=load_data("data.json")


data


# write a function to print user and their connection
def print_users(data):
    print("user and their connection")
    for user in data['users']:
        print(f"ID:{user['id']}-{user['name']} and friends with {user['friends']} and liked pages {user['liked_pages']}")
    print("\npages information")
    for page in data['pages']:
        print(f"{page['id']}:{page['name']}")
print_users(data)



