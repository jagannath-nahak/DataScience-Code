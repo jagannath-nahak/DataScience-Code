import json

def load_data(filename):
    with open(filename,"r") as f:
        return json.load(f)
def pages_you_might_like(user_id,data):
    user_pages={}
    for page in data['pages']:
        user_pages[page['id']]=set(page['liked_pages'])

    if user_id not in user_pages:
        return []
    user_liked_pages=user_pages[user_id]
    page_suggestions={}

    for other_user,pages in user_pages.items():
        if other_user!=user_id:
            shared_pages=user_liked_pages.intersection(pages)
        for page in pages:
            if page not in user_liked_pages:
                page_suggestions[page]=page_suggestions.get(page,0)+len(shared_pages)
        sorted_pages=sorted(page_suggestions.items(),key=lambda x:x[1],reverse=True)
        return [user_is for user_id,_ in sorted_pages]

data=load_data("massive.json")
user_id=1
page_recommendation=pages_you_might_like(user_id,data)
print(f"Pages You Might Like for User {user_id}: {page_recommendations}")



